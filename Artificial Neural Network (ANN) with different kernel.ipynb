{
 "cells": [
  {
   "cell_type": "markdown",
   "metadata": {},
   "source": [
    "Artificial Neural Network(ANN) with different kernel"
   ]
  },
  {
   "cell_type": "markdown",
   "metadata": {},
   "source": [
    "Importing Libraries"
   ]
  },
  {
   "cell_type": "code",
   "execution_count": 1,
   "metadata": {},
   "outputs": [],
   "source": [
    "import numpy as np\n",
    "import pandas as pd\n",
    "import matplotlib.pyplot as plt\n",
    "import tensorflow as tf"
   ]
  },
  {
   "cell_type": "code",
   "execution_count": 2,
   "metadata": {},
   "outputs": [
    {
     "data": {
      "text/plain": [
       "'2.1.0'"
      ]
     },
     "execution_count": 2,
     "metadata": {},
     "output_type": "execute_result"
    }
   ],
   "source": [
    "tf.__version__\n"
   ]
  },
  {
   "cell_type": "markdown",
   "metadata": {},
   "source": [
    "Part 1 - Data Preprocessing"
   ]
  },
  {
   "cell_type": "markdown",
   "metadata": {},
   "source": [
    "Importing the Data set"
   ]
  },
  {
   "cell_type": "code",
   "execution_count": 3,
   "metadata": {},
   "outputs": [
    {
     "data": {
      "text/html": [
       "<div>\n",
       "<style scoped>\n",
       "    .dataframe tbody tr th:only-of-type {\n",
       "        vertical-align: middle;\n",
       "    }\n",
       "\n",
       "    .dataframe tbody tr th {\n",
       "        vertical-align: top;\n",
       "    }\n",
       "\n",
       "    .dataframe thead th {\n",
       "        text-align: right;\n",
       "    }\n",
       "</style>\n",
       "<table border=\"1\" class=\"dataframe\">\n",
       "  <thead>\n",
       "    <tr style=\"text-align: right;\">\n",
       "      <th></th>\n",
       "      <th>RowNumber</th>\n",
       "      <th>CustomerId</th>\n",
       "      <th>Surname</th>\n",
       "      <th>CreditScore</th>\n",
       "      <th>Geography</th>\n",
       "      <th>Gender</th>\n",
       "      <th>Age</th>\n",
       "      <th>Tenure</th>\n",
       "      <th>Balance</th>\n",
       "      <th>NumOfProducts</th>\n",
       "      <th>HasCrCard</th>\n",
       "      <th>IsActiveMember</th>\n",
       "      <th>EstimatedSalary</th>\n",
       "      <th>Exited</th>\n",
       "    </tr>\n",
       "  </thead>\n",
       "  <tbody>\n",
       "    <tr>\n",
       "      <th>0</th>\n",
       "      <td>1</td>\n",
       "      <td>15634602</td>\n",
       "      <td>Hargrave</td>\n",
       "      <td>619</td>\n",
       "      <td>France</td>\n",
       "      <td>Female</td>\n",
       "      <td>42</td>\n",
       "      <td>2</td>\n",
       "      <td>0.00</td>\n",
       "      <td>1</td>\n",
       "      <td>1</td>\n",
       "      <td>1</td>\n",
       "      <td>101348.88</td>\n",
       "      <td>1</td>\n",
       "    </tr>\n",
       "    <tr>\n",
       "      <th>1</th>\n",
       "      <td>2</td>\n",
       "      <td>15647311</td>\n",
       "      <td>Hill</td>\n",
       "      <td>608</td>\n",
       "      <td>Spain</td>\n",
       "      <td>Female</td>\n",
       "      <td>41</td>\n",
       "      <td>1</td>\n",
       "      <td>83807.86</td>\n",
       "      <td>1</td>\n",
       "      <td>0</td>\n",
       "      <td>1</td>\n",
       "      <td>112542.58</td>\n",
       "      <td>0</td>\n",
       "    </tr>\n",
       "    <tr>\n",
       "      <th>2</th>\n",
       "      <td>3</td>\n",
       "      <td>15619304</td>\n",
       "      <td>Onio</td>\n",
       "      <td>502</td>\n",
       "      <td>France</td>\n",
       "      <td>Female</td>\n",
       "      <td>42</td>\n",
       "      <td>8</td>\n",
       "      <td>159660.80</td>\n",
       "      <td>3</td>\n",
       "      <td>1</td>\n",
       "      <td>0</td>\n",
       "      <td>113931.57</td>\n",
       "      <td>1</td>\n",
       "    </tr>\n",
       "    <tr>\n",
       "      <th>3</th>\n",
       "      <td>4</td>\n",
       "      <td>15701354</td>\n",
       "      <td>Boni</td>\n",
       "      <td>699</td>\n",
       "      <td>France</td>\n",
       "      <td>Female</td>\n",
       "      <td>39</td>\n",
       "      <td>1</td>\n",
       "      <td>0.00</td>\n",
       "      <td>2</td>\n",
       "      <td>0</td>\n",
       "      <td>0</td>\n",
       "      <td>93826.63</td>\n",
       "      <td>0</td>\n",
       "    </tr>\n",
       "    <tr>\n",
       "      <th>4</th>\n",
       "      <td>5</td>\n",
       "      <td>15737888</td>\n",
       "      <td>Mitchell</td>\n",
       "      <td>850</td>\n",
       "      <td>Spain</td>\n",
       "      <td>Female</td>\n",
       "      <td>43</td>\n",
       "      <td>2</td>\n",
       "      <td>125510.82</td>\n",
       "      <td>1</td>\n",
       "      <td>1</td>\n",
       "      <td>1</td>\n",
       "      <td>79084.10</td>\n",
       "      <td>0</td>\n",
       "    </tr>\n",
       "  </tbody>\n",
       "</table>\n",
       "</div>"
      ],
      "text/plain": [
       "   RowNumber  CustomerId   Surname  CreditScore Geography  Gender  Age  \\\n",
       "0          1    15634602  Hargrave          619    France  Female   42   \n",
       "1          2    15647311      Hill          608     Spain  Female   41   \n",
       "2          3    15619304      Onio          502    France  Female   42   \n",
       "3          4    15701354      Boni          699    France  Female   39   \n",
       "4          5    15737888  Mitchell          850     Spain  Female   43   \n",
       "\n",
       "   Tenure    Balance  NumOfProducts  HasCrCard  IsActiveMember  \\\n",
       "0       2       0.00              1          1               1   \n",
       "1       1   83807.86              1          0               1   \n",
       "2       8  159660.80              3          1               0   \n",
       "3       1       0.00              2          0               0   \n",
       "4       2  125510.82              1          1               1   \n",
       "\n",
       "   EstimatedSalary  Exited  \n",
       "0        101348.88       1  \n",
       "1        112542.58       0  \n",
       "2        113931.57       1  \n",
       "3         93826.63       0  \n",
       "4         79084.10       0  "
      ]
     },
     "execution_count": 3,
     "metadata": {},
     "output_type": "execute_result"
    }
   ],
   "source": [
    "df=pd.read_csv(\"Churn_Modelling.csv\")\n",
    "df.head()"
   ]
  },
  {
   "cell_type": "code",
   "execution_count": 4,
   "metadata": {},
   "outputs": [
    {
     "data": {
      "text/plain": [
       "array([[619, 'France', 'Female', ..., 1, 1, 101348.88],\n",
       "       [608, 'Spain', 'Female', ..., 0, 1, 112542.58],\n",
       "       [502, 'France', 'Female', ..., 1, 0, 113931.57],\n",
       "       ...,\n",
       "       [709, 'France', 'Female', ..., 0, 1, 42085.58],\n",
       "       [772, 'Germany', 'Male', ..., 1, 0, 92888.52],\n",
       "       [792, 'France', 'Female', ..., 1, 0, 38190.78]], dtype=object)"
      ]
     },
     "execution_count": 4,
     "metadata": {},
     "output_type": "execute_result"
    }
   ],
   "source": [
    "x=df.iloc[:,3:-1].values\n",
    "x"
   ]
  },
  {
   "cell_type": "code",
   "execution_count": 5,
   "metadata": {},
   "outputs": [
    {
     "data": {
      "text/plain": [
       "array([1, 0, 1, ..., 1, 1, 0], dtype=int64)"
      ]
     },
     "execution_count": 5,
     "metadata": {},
     "output_type": "execute_result"
    }
   ],
   "source": [
    "y=df.iloc[:,-1].values\n",
    "y"
   ]
  },
  {
   "cell_type": "markdown",
   "metadata": {},
   "source": [
    "Encoding The Categorical Data"
   ]
  },
  {
   "cell_type": "markdown",
   "metadata": {},
   "source": [
    "Label Encoding The \"Gender\" Column"
   ]
  },
  {
   "cell_type": "code",
   "execution_count": 6,
   "metadata": {},
   "outputs": [],
   "source": [
    "from sklearn.preprocessing import LabelEncoder\n",
    "le=LabelEncoder()\n",
    "x[:,2]=le.fit_transform(x[:,2])"
   ]
  },
  {
   "cell_type": "code",
   "execution_count": 7,
   "metadata": {},
   "outputs": [
    {
     "data": {
      "text/plain": [
       "array([[619, 'France', 0, ..., 1, 1, 101348.88],\n",
       "       [608, 'Spain', 0, ..., 0, 1, 112542.58],\n",
       "       [502, 'France', 0, ..., 1, 0, 113931.57],\n",
       "       ...,\n",
       "       [709, 'France', 0, ..., 0, 1, 42085.58],\n",
       "       [772, 'Germany', 1, ..., 1, 0, 92888.52],\n",
       "       [792, 'France', 0, ..., 1, 0, 38190.78]], dtype=object)"
      ]
     },
     "execution_count": 7,
     "metadata": {},
     "output_type": "execute_result"
    }
   ],
   "source": [
    "x"
   ]
  },
  {
   "cell_type": "markdown",
   "metadata": {},
   "source": [
    "One Hot Encoding The \"Geography\" Column"
   ]
  },
  {
   "cell_type": "code",
   "execution_count": 8,
   "metadata": {},
   "outputs": [
    {
     "name": "stdout",
     "output_type": "stream",
     "text": [
      "[[1.0 0.0 0.0 ... 1 1 101348.88]\n",
      " [0.0 0.0 1.0 ... 0 1 112542.58]\n",
      " [1.0 0.0 0.0 ... 1 0 113931.57]\n",
      " ...\n",
      " [1.0 0.0 0.0 ... 0 1 42085.58]\n",
      " [0.0 1.0 0.0 ... 1 0 92888.52]\n",
      " [1.0 0.0 0.0 ... 1 0 38190.78]]\n"
     ]
    }
   ],
   "source": [
    "from sklearn.compose import ColumnTransformer\n",
    "from sklearn.preprocessing import OneHotEncoder\n",
    "ct=ColumnTransformer(transformers=[('encoder',OneHotEncoder(),[1])],remainder='passthrough')\n",
    "x=np.array(ct.fit_transform(x))\n",
    "print(x)\n"
   ]
  },
  {
   "cell_type": "markdown",
   "metadata": {},
   "source": [
    "Splitting The Data set into Training and Testing Sets"
   ]
  },
  {
   "cell_type": "code",
   "execution_count": 9,
   "metadata": {},
   "outputs": [],
   "source": [
    "from sklearn.model_selection import train_test_split\n",
    "x_train,x_test,y_train,y_test = train_test_split(x,y,random_state=0,test_size=0.2)"
   ]
  },
  {
   "cell_type": "code",
   "execution_count": 10,
   "metadata": {},
   "outputs": [
    {
     "data": {
      "text/plain": [
       "array([[0.0, 0.0, 1.0, ..., 1, 0, 163830.64],\n",
       "       [0.0, 1.0, 0.0, ..., 1, 1, 57098.0],\n",
       "       [1.0, 0.0, 0.0, ..., 1, 0, 185630.76],\n",
       "       ...,\n",
       "       [1.0, 0.0, 0.0, ..., 1, 0, 181429.87],\n",
       "       [0.0, 0.0, 1.0, ..., 1, 1, 148750.16],\n",
       "       [0.0, 1.0, 0.0, ..., 1, 0, 118855.26]], dtype=object)"
      ]
     },
     "execution_count": 10,
     "metadata": {},
     "output_type": "execute_result"
    }
   ],
   "source": [
    "x_train"
   ]
  },
  {
   "cell_type": "code",
   "execution_count": 11,
   "metadata": {},
   "outputs": [
    {
     "data": {
      "text/plain": [
       "array([[0.0, 1.0, 0.0, ..., 1, 1, 192852.67],\n",
       "       [1.0, 0.0, 0.0, ..., 1, 0, 128702.1],\n",
       "       [0.0, 0.0, 1.0, ..., 1, 1, 75732.25],\n",
       "       ...,\n",
       "       [0.0, 0.0, 1.0, ..., 1, 0, 141533.19],\n",
       "       [0.0, 1.0, 0.0, ..., 1, 1, 11276.48],\n",
       "       [0.0, 1.0, 0.0, ..., 1, 0, 192950.6]], dtype=object)"
      ]
     },
     "execution_count": 11,
     "metadata": {},
     "output_type": "execute_result"
    }
   ],
   "source": [
    "x_test"
   ]
  },
  {
   "cell_type": "code",
   "execution_count": 12,
   "metadata": {},
   "outputs": [
    {
     "data": {
      "text/plain": [
       "array([0, 1, 0, ..., 0, 0, 0], dtype=int64)"
      ]
     },
     "execution_count": 12,
     "metadata": {},
     "output_type": "execute_result"
    }
   ],
   "source": [
    "y_test"
   ]
  },
  {
   "cell_type": "code",
   "execution_count": 13,
   "metadata": {},
   "outputs": [
    {
     "data": {
      "text/plain": [
       "array([0, 0, 0, ..., 0, 0, 1], dtype=int64)"
      ]
     },
     "execution_count": 13,
     "metadata": {},
     "output_type": "execute_result"
    }
   ],
   "source": [
    "y_train"
   ]
  },
  {
   "cell_type": "markdown",
   "metadata": {},
   "source": [
    "Feature Scaling"
   ]
  },
  {
   "cell_type": "code",
   "execution_count": 14,
   "metadata": {},
   "outputs": [],
   "source": [
    "#? we need to apply feature scaling to each and every variable in neural network\n",
    "from sklearn.preprocessing import StandardScaler\n",
    "sc=StandardScaler()\n",
    "x_test=sc.fit_transform(x_test)\n",
    "x_train=sc.transform(x_train)\n"
   ]
  },
  {
   "cell_type": "code",
   "execution_count": 15,
   "metadata": {},
   "outputs": [
    {
     "data": {
      "text/plain": [
       "array([[-0.95692675, -0.61433742,  1.74133801, ...,  0.66011376,\n",
       "        -1.02429504,  1.1162265 ],\n",
       "       [-0.95692675,  1.62776996, -0.57427105, ...,  0.66011376,\n",
       "         0.97628121, -0.74330928],\n",
       "       [ 1.04501206, -0.61433742, -0.57427105, ...,  0.66011376,\n",
       "        -1.02429504,  1.4960363 ],\n",
       "       ...,\n",
       "       [ 1.04501206, -0.61433742, -0.57427105, ...,  0.66011376,\n",
       "        -1.02429504,  1.42284683],\n",
       "       [-0.95692675, -0.61433742,  1.74133801, ...,  0.66011376,\n",
       "         0.97628121,  0.85348876],\n",
       "       [-0.95692675,  1.62776996, -0.57427105, ...,  0.66011376,\n",
       "        -1.02429504,  0.33264869]])"
      ]
     },
     "execution_count": 15,
     "metadata": {},
     "output_type": "execute_result"
    }
   ],
   "source": [
    "x_train"
   ]
  },
  {
   "cell_type": "code",
   "execution_count": 16,
   "metadata": {},
   "outputs": [
    {
     "data": {
      "text/plain": [
       "array([[-0.95692675,  1.62776996, -0.57427105, ...,  0.66011376,\n",
       "         0.97628121,  1.62185911],\n",
       "       [ 1.04501206, -0.61433742, -0.57427105, ...,  0.66011376,\n",
       "        -1.02429504,  0.504204  ],\n",
       "       [-0.95692675, -0.61433742,  1.74133801, ...,  0.66011376,\n",
       "         0.97628121, -0.41865644],\n",
       "       ...,\n",
       "       [-0.95692675, -0.61433742,  1.74133801, ...,  0.66011376,\n",
       "        -1.02429504,  0.72775202],\n",
       "       [-0.95692675,  1.62776996, -0.57427105, ...,  0.66011376,\n",
       "         0.97628121, -1.54162886],\n",
       "       [-0.95692675,  1.62776996, -0.57427105, ...,  0.66011376,\n",
       "        -1.02429504,  1.62356528]])"
      ]
     },
     "execution_count": 16,
     "metadata": {},
     "output_type": "execute_result"
    }
   ],
   "source": [
    "x_test"
   ]
  },
  {
   "cell_type": "markdown",
   "metadata": {},
   "source": [
    "Part 2 - Building the ANN (Artificial Neural Network)"
   ]
  },
  {
   "cell_type": "markdown",
   "metadata": {},
   "source": [
    "Initializing the ANN"
   ]
  },
  {
   "cell_type": "code",
   "execution_count": 17,
   "metadata": {},
   "outputs": [],
   "source": [
    "ann=tf.keras.models.Sequential()"
   ]
  },
  {
   "cell_type": "markdown",
   "metadata": {},
   "source": [
    "Adding the Input layer and the first hidden layer"
   ]
  },
  {
   "cell_type": "code",
   "execution_count": 18,
   "metadata": {},
   "outputs": [],
   "source": [
    "# shalow layer \n",
    "ann.add(tf.keras.layers.Dense(units=6,activation=\"relu\"))"
   ]
  },
  {
   "cell_type": "markdown",
   "metadata": {},
   "source": [
    "Adding the second hidden layer"
   ]
  },
  {
   "cell_type": "code",
   "execution_count": 19,
   "metadata": {},
   "outputs": [],
   "source": [
    "ann.add(tf.keras.layers.Dense(units=6,activation=\"relu\"))"
   ]
  },
  {
   "cell_type": "markdown",
   "metadata": {},
   "source": [
    "Adding the Output layer"
   ]
  },
  {
   "cell_type": "code",
   "execution_count": 20,
   "metadata": {},
   "outputs": [],
   "source": [
    "ann.add(tf.keras.layers.Dense(units=1,activation=\"sigmoid\"))\n",
    "# ! for binary sigmoid\n",
    "# ? for non binary softmax"
   ]
  },
  {
   "cell_type": "markdown",
   "metadata": {},
   "source": [
    "Part 3 - Training The ANN"
   ]
  },
  {
   "cell_type": "markdown",
   "metadata": {},
   "source": [
    "Compiling the ANN"
   ]
  },
  {
   "cell_type": "code",
   "execution_count": 21,
   "metadata": {},
   "outputs": [],
   "source": [
    "ann.compile(optimizer='adam',loss='binary_crossentropy',metrics=['accuracy'])\n",
    "# ! binary outcome loss = \" binary_crossentropy\"\n",
    "# ? for non binary \"categorical_crossentropy\""
   ]
  },
  {
   "cell_type": "markdown",
   "metadata": {},
   "source": [
    "Training The ANN model on the Training Set"
   ]
  },
  {
   "cell_type": "code",
   "execution_count": 22,
   "metadata": {},
   "outputs": [
    {
     "name": "stdout",
     "output_type": "stream",
     "text": [
      "Train on 8000 samples\n",
      "Epoch 1/100\n",
      "8000/8000 [==============================] - 2s 308us/sample - loss: 0.5750 - accuracy: 0.7549\n",
      "Epoch 2/100\n",
      "8000/8000 [==============================] - 2s 230us/sample - loss: 0.4878 - accuracy: 0.7960\n",
      "Epoch 3/100\n",
      "8000/8000 [==============================] - 2s 231us/sample - loss: 0.4624 - accuracy: 0.7960\n",
      "Epoch 4/100\n",
      "8000/8000 [==============================] - 1s 148us/sample - loss: 0.4491 - accuracy: 0.7960\n",
      "Epoch 5/100\n",
      "8000/8000 [==============================] - 1s 172us/sample - loss: 0.4391 - accuracy: 0.7958\n",
      "Epoch 6/100\n",
      "8000/8000 [==============================] - 2s 188us/sample - loss: 0.4296 - accuracy: 0.7960\n",
      "Epoch 7/100\n",
      "8000/8000 [==============================] - 1s 185us/sample - loss: 0.4197 - accuracy: 0.8010\n",
      "Epoch 8/100\n",
      "8000/8000 [==============================] - 2s 258us/sample - loss: 0.4113 - accuracy: 0.8117\n",
      "Epoch 9/100\n",
      "8000/8000 [==============================] - 2s 255us/sample - loss: 0.4041 - accuracy: 0.8177\n",
      "Epoch 10/100\n",
      "8000/8000 [==============================] - 2s 272us/sample - loss: 0.3985 - accuracy: 0.8205\n",
      "Epoch 11/100\n",
      "8000/8000 [==============================] - 1s 180us/sample - loss: 0.3939 - accuracy: 0.8221\n",
      "Epoch 12/100\n",
      "8000/8000 [==============================] - 1s 169us/sample - loss: 0.3905 - accuracy: 0.8234\n",
      "Epoch 13/100\n",
      "8000/8000 [==============================] - 1s 141us/sample - loss: 0.3872 - accuracy: 0.8239\n",
      "Epoch 14/100\n",
      "8000/8000 [==============================] - 1s 138us/sample - loss: 0.3841 - accuracy: 0.8241\n",
      "Epoch 15/100\n",
      "8000/8000 [==============================] - 1s 143us/sample - loss: 0.3817 - accuracy: 0.8240\n",
      "Epoch 16/100\n",
      "8000/8000 [==============================] - 1s 133us/sample - loss: 0.3789 - accuracy: 0.8254 - loss: 0.385\n",
      "Epoch 17/100\n",
      "8000/8000 [==============================] - 1s 155us/sample - loss: 0.3769 - accuracy: 0.8266\n",
      "Epoch 18/100\n",
      "8000/8000 [==============================] - 1s 137us/sample - loss: 0.3749 - accuracy: 0.8301\n",
      "Epoch 19/100\n",
      "8000/8000 [==============================] - 1s 153us/sample - loss: 0.3732 - accuracy: 0.8445\n",
      "Epoch 20/100\n",
      "8000/8000 [==============================] - 2s 190us/sample - loss: 0.3716 - accuracy: 0.8465\n",
      "Epoch 21/100\n",
      "8000/8000 [==============================] - 1s 152us/sample - loss: 0.3703 - accuracy: 0.8478\n",
      "Epoch 22/100\n",
      "8000/8000 [==============================] - 2s 230us/sample - loss: 0.3686 - accuracy: 0.8514\n",
      "Epoch 23/100\n",
      "8000/8000 [==============================] - 1s 160us/sample - loss: 0.3672 - accuracy: 0.8515\n",
      "Epoch 24/100\n",
      "8000/8000 [==============================] - 1s 136us/sample - loss: 0.3656 - accuracy: 0.8533\n",
      "Epoch 25/100\n",
      "8000/8000 [==============================] - 1s 154us/sample - loss: 0.3641 - accuracy: 0.8533\n",
      "Epoch 26/100\n",
      "8000/8000 [==============================] - 1s 136us/sample - loss: 0.3627 - accuracy: 0.8547\n",
      "Epoch 27/100\n",
      "8000/8000 [==============================] - 1s 133us/sample - loss: 0.3608 - accuracy: 0.8568\n",
      "Epoch 28/100\n",
      "8000/8000 [==============================] - 1s 158us/sample - loss: 0.3597 - accuracy: 0.8569\n",
      "Epoch 29/100\n",
      "8000/8000 [==============================] - 1s 165us/sample - loss: 0.3589 - accuracy: 0.8571\n",
      "Epoch 30/100\n",
      "8000/8000 [==============================] - 1s 133us/sample - loss: 0.3579 - accuracy: 0.8569\n",
      "Epoch 31/100\n",
      "8000/8000 [==============================] - 1s 150us/sample - loss: 0.3567 - accuracy: 0.8581\n",
      "Epoch 32/100\n",
      "8000/8000 [==============================] - 1s 133us/sample - loss: 0.3560 - accuracy: 0.8576\n",
      "Epoch 33/100\n",
      "8000/8000 [==============================] - 1s 138us/sample - loss: 0.3552 - accuracy: 0.8581 - loss: 0.3569 - accuracy: 0.\n",
      "Epoch 34/100\n",
      "8000/8000 [==============================] - 1s 148us/sample - loss: 0.3542 - accuracy: 0.8572\n",
      "Epoch 35/100\n",
      "8000/8000 [==============================] - 1s 141us/sample - loss: 0.3535 - accuracy: 0.8570\n",
      "Epoch 36/100\n",
      "8000/8000 [==============================] - 1s 135us/sample - loss: 0.3527 - accuracy: 0.8583\n",
      "Epoch 37/100\n",
      "8000/8000 [==============================] - 1s 153us/sample - loss: 0.3521 - accuracy: 0.8602\n",
      "Epoch 38/100\n",
      "8000/8000 [==============================] - 1s 135us/sample - loss: 0.3512 - accuracy: 0.8583\n",
      "Epoch 39/100\n",
      "8000/8000 [==============================] - 1s 130us/sample - loss: 0.3504 - accuracy: 0.8589\n",
      "Epoch 40/100\n",
      "8000/8000 [==============================] - 1s 167us/sample - loss: 0.3498 - accuracy: 0.8593\n",
      "Epoch 41/100\n",
      "8000/8000 [==============================] - 1s 165us/sample - loss: 0.3493 - accuracy: 0.8604\n",
      "Epoch 42/100\n",
      "8000/8000 [==============================] - 1s 157us/sample - loss: 0.3489 - accuracy: 0.8597\n",
      "Epoch 43/100\n",
      "8000/8000 [==============================] - 1s 138us/sample - loss: 0.3480 - accuracy: 0.8597\n",
      "Epoch 44/100\n",
      "8000/8000 [==============================] - 1s 132us/sample - loss: 0.3473 - accuracy: 0.8602\n",
      "Epoch 45/100\n",
      "8000/8000 [==============================] - 1s 160us/sample - loss: 0.3472 - accuracy: 0.8600\n",
      "Epoch 46/100\n",
      "8000/8000 [==============================] - 1s 137us/sample - loss: 0.3464 - accuracy: 0.8609\n",
      "Epoch 47/100\n",
      "8000/8000 [==============================] - 1s 139us/sample - loss: 0.3463 - accuracy: 0.8618\n",
      "Epoch 48/100\n",
      "8000/8000 [==============================] - 1s 146us/sample - loss: 0.3458 - accuracy: 0.8611\n",
      "Epoch 49/100\n",
      "8000/8000 [==============================] - 1s 182us/sample - loss: 0.3450 - accuracy: 0.8609\n",
      "Epoch 50/100\n",
      "8000/8000 [==============================] - 1s 139us/sample - loss: 0.3447 - accuracy: 0.8600\n",
      "Epoch 51/100\n",
      "8000/8000 [==============================] - 1s 137us/sample - loss: 0.3440 - accuracy: 0.8619\n",
      "Epoch 52/100\n",
      "8000/8000 [==============================] - 1s 146us/sample - loss: 0.3433 - accuracy: 0.8614\n",
      "Epoch 53/100\n",
      "8000/8000 [==============================] - 1s 139us/sample - loss: 0.3428 - accuracy: 0.8611\n",
      "Epoch 54/100\n",
      "8000/8000 [==============================] - 1s 129us/sample - loss: 0.3424 - accuracy: 0.8646\n",
      "Epoch 55/100\n",
      "8000/8000 [==============================] - 1s 155us/sample - loss: 0.3425 - accuracy: 0.8621\n",
      "Epoch 56/100\n",
      "8000/8000 [==============================] - 1s 135us/sample - loss: 0.3413 - accuracy: 0.8622\n",
      "Epoch 57/100\n",
      "8000/8000 [==============================] - 1s 133us/sample - loss: 0.3412 - accuracy: 0.8621 - loss: 0.3411 - accuracy: 0.86\n",
      "Epoch 58/100\n",
      "8000/8000 [==============================] - 1s 168us/sample - loss: 0.3411 - accuracy: 0.8627\n",
      "Epoch 59/100\n",
      "8000/8000 [==============================] - 2s 195us/sample - loss: 0.3405 - accuracy: 0.8612\n",
      "Epoch 60/100\n",
      "8000/8000 [==============================] - 1s 143us/sample - loss: 0.3405 - accuracy: 0.8625\n",
      "Epoch 61/100\n",
      "8000/8000 [==============================] - 1s 171us/sample - loss: 0.3403 - accuracy: 0.8649\n",
      "Epoch 62/100\n",
      "8000/8000 [==============================] - 1s 137us/sample - loss: 0.3398 - accuracy: 0.8625\n",
      "Epoch 63/100\n",
      "8000/8000 [==============================] - 1s 155us/sample - loss: 0.3397 - accuracy: 0.8651\n",
      "Epoch 64/100\n",
      "8000/8000 [==============================] - 1s 132us/sample - loss: 0.3389 - accuracy: 0.8648\n",
      "Epoch 65/100\n",
      "8000/8000 [==============================] - 1s 132us/sample - loss: 0.3392 - accuracy: 0.8644\n",
      "Epoch 66/100\n",
      "8000/8000 [==============================] - 1s 168us/sample - loss: 0.3385 - accuracy: 0.8635\n",
      "Epoch 67/100\n",
      "8000/8000 [==============================] - 1s 164us/sample - loss: 0.3380 - accuracy: 0.8643\n",
      "Epoch 68/100\n",
      "8000/8000 [==============================] - 1s 135us/sample - loss: 0.3381 - accuracy: 0.8639\n",
      "Epoch 69/100\n",
      "8000/8000 [==============================] - 1s 140us/sample - loss: 0.3375 - accuracy: 0.8634\n",
      "Epoch 70/100\n",
      "8000/8000 [==============================] - 1s 134us/sample - loss: 0.3376 - accuracy: 0.8636\n",
      "Epoch 71/100\n",
      "8000/8000 [==============================] - 1s 140us/sample - loss: 0.3372 - accuracy: 0.8634\n",
      "Epoch 72/100\n",
      "8000/8000 [==============================] - 1s 152us/sample - loss: 0.3369 - accuracy: 0.8633\n",
      "Epoch 73/100\n",
      "8000/8000 [==============================] - 1s 131us/sample - loss: 0.3374 - accuracy: 0.8634\n",
      "Epoch 74/100\n",
      "8000/8000 [==============================] - 1s 147us/sample - loss: 0.3363 - accuracy: 0.8650\n",
      "Epoch 75/100\n",
      "8000/8000 [==============================] - 1s 141us/sample - loss: 0.3367 - accuracy: 0.8650\n",
      "Epoch 76/100\n",
      "8000/8000 [==============================] - 1s 134us/sample - loss: 0.3364 - accuracy: 0.8644\n",
      "Epoch 77/100\n",
      "8000/8000 [==============================] - 1s 150us/sample - loss: 0.3362 - accuracy: 0.8662\n",
      "Epoch 78/100\n",
      "8000/8000 [==============================] - 1s 141us/sample - loss: 0.3359 - accuracy: 0.8641\n",
      "Epoch 79/100\n",
      "8000/8000 [==============================] - 1s 139us/sample - loss: 0.3360 - accuracy: 0.8646\n",
      "Epoch 80/100\n",
      "8000/8000 [==============================] - 1s 146us/sample - loss: 0.3356 - accuracy: 0.8641\n",
      "Epoch 81/100\n",
      "8000/8000 [==============================] - 1s 130us/sample - loss: 0.3355 - accuracy: 0.8649\n",
      "Epoch 82/100\n",
      "8000/8000 [==============================] - 1s 130us/sample - loss: 0.3353 - accuracy: 0.8645\n",
      "Epoch 83/100\n",
      "8000/8000 [==============================] - 1s 142us/sample - loss: 0.3353 - accuracy: 0.8645\n",
      "Epoch 84/100\n",
      "8000/8000 [==============================] - 1s 142us/sample - loss: 0.3352 - accuracy: 0.8650\n",
      "Epoch 85/100\n",
      "8000/8000 [==============================] - 1s 130us/sample - loss: 0.3351 - accuracy: 0.8652 - loss: 0.3347 - accuracy\n",
      "Epoch 86/100\n",
      "8000/8000 [==============================] - 1s 144us/sample - loss: 0.3345 - accuracy: 0.8654\n",
      "Epoch 87/100\n",
      "8000/8000 [==============================] - 1s 145us/sample - loss: 0.3348 - accuracy: 0.8659\n",
      "Epoch 88/100\n",
      "8000/8000 [==============================] - 1s 146us/sample - loss: 0.3344 - accuracy: 0.8633\n",
      "Epoch 89/100\n",
      "8000/8000 [==============================] - 1s 153us/sample - loss: 0.3340 - accuracy: 0.8633\n",
      "Epoch 90/100\n",
      "8000/8000 [==============================] - 1s 132us/sample - loss: 0.3341 - accuracy: 0.8656\n",
      "Epoch 91/100\n",
      "8000/8000 [==============================] - 1s 162us/sample - loss: 0.3343 - accuracy: 0.8649\n",
      "Epoch 92/100\n",
      "8000/8000 [==============================] - 2s 191us/sample - loss: 0.3340 - accuracy: 0.8634\n",
      "Epoch 93/100\n",
      "8000/8000 [==============================] - 1s 148us/sample - loss: 0.3338 - accuracy: 0.8660 - loss: 0.3332 - ac\n",
      "Epoch 94/100\n",
      "8000/8000 [==============================] - 1s 133us/sample - loss: 0.3333 - accuracy: 0.8649\n",
      "Epoch 95/100\n",
      "8000/8000 [==============================] - 1s 127us/sample - loss: 0.3334 - accuracy: 0.8652 - loss: 0.3319 - accuracy: 0.86\n",
      "Epoch 96/100\n",
      "8000/8000 [==============================] - 1s 152us/sample - loss: 0.3327 - accuracy: 0.8661\n",
      "Epoch 97/100\n",
      "8000/8000 [==============================] - 1s 130us/sample - loss: 0.3332 - accuracy: 0.8648\n",
      "Epoch 98/100\n",
      "8000/8000 [==============================] - 1s 132us/sample - loss: 0.3329 - accuracy: 0.8664\n",
      "Epoch 99/100\n",
      "8000/8000 [==============================] - 1s 147us/sample - loss: 0.3330 - accuracy: 0.8656\n",
      "Epoch 100/100\n",
      "8000/8000 [==============================] - 1s 136us/sample - loss: 0.3327 - accuracy: 0.8641\n"
     ]
    },
    {
     "data": {
      "text/plain": [
       "<tensorflow.python.keras.callbacks.History at 0x1ffa4b10b70>"
      ]
     },
     "execution_count": 22,
     "metadata": {},
     "output_type": "execute_result"
    }
   ],
   "source": [
    "ann.fit(x_train, y_train, batch_size = 32, epochs = 100)\n",
    "# ann.fit(x_train,y_train,batch_size=32,epochs=100)\n",
    "# batch size is hyperparameter and given most used value 32\n",
    "\n"
   ]
  },
  {
   "cell_type": "markdown",
   "metadata": {},
   "source": [
    "Part 4 - Making The Prediction and evaluating the model"
   ]
  },
  {
   "cell_type": "markdown",
   "metadata": {},
   "source": [
    "Predicting result of a single observation"
   ]
  },
  {
   "cell_type": "code",
   "execution_count": 23,
   "metadata": {},
   "outputs": [
    {
     "name": "stdout",
     "output_type": "stream",
     "text": [
      "[[0.07426592]]\n",
      "[[False]]\n"
     ]
    }
   ],
   "source": [
    "print(ann.predict(sc.transform([[1, 0, 0,600,1,40,3,60000,2,2,2,50000]])))\n",
    "print(ann.predict(sc.transform([[1, 0, 0,600,1,40,3,60000,2,2,2,50000]]))>0.5)\n"
   ]
  },
  {
   "cell_type": "markdown",
   "metadata": {},
   "source": [
    "Prdicting the results for x_test dataset"
   ]
  },
  {
   "cell_type": "code",
   "execution_count": 24,
   "metadata": {},
   "outputs": [
    {
     "name": "stdout",
     "output_type": "stream",
     "text": [
      "[[0.30955145 0.        ]\n",
      " [0.3069354  1.        ]\n",
      " [0.08566613 0.        ]\n",
      " ...\n",
      " [0.23822691 0.        ]\n",
      " [0.25645119 0.        ]\n",
      " [0.25403863 0.        ]]\n",
      "[[0 0]\n",
      " [0 1]\n",
      " [0 0]\n",
      " ...\n",
      " [0 0]\n",
      " [0 0]\n",
      " [0 0]]\n"
     ]
    }
   ],
   "source": [
    "y_pred=ann.predict(x_test)\n",
    "\n",
    "print(np.concatenate((y_pred.reshape(len(y_pred),1),y_test.reshape(len(y_test),1)),1))\n",
    "y_pred=(y_pred>0.5)\n",
    "print(np.concatenate((y_pred.reshape(len(y_pred),1),y_test.reshape(len(y_test),1)),1))\n"
   ]
  },
  {
   "cell_type": "markdown",
   "metadata": {},
   "source": [
    "Making The Confussion Matrix"
   ]
  },
  {
   "cell_type": "code",
   "execution_count": 25,
   "metadata": {},
   "outputs": [
    {
     "data": {
      "image/png": "[encoded data removed]",
      "text/plain": [
       "<Figure size 432x288 with 2 Axes>"
      ]
     },
     "metadata": {
      "needs_background": "light"
     },
     "output_type": "display_data"
    }
   ],
   "source": [
    "from sklearn.metrics import confusion_matrix,accuracy_score,classification_report\n",
    "import seaborn as sns\n",
    "cm=confusion_matrix(y_test,y_pred)\n",
    "sns.heatmap(cm,annot=True,fmt='g')\n",
    "plt.title(\"Confusion Matrix\")\n",
    "plt.xlabel(\"Actual\")\n",
    "plt.ylabel(\"Predicted\")\n",
    "plt.savefig(\"confusion_matrix 2.png\")\n",
    "plt.show()"
   ]
  },
  {
   "cell_type": "markdown",
   "metadata": {},
   "source": [
    "Accuracy Score"
   ]
  },
  {
   "cell_type": "code",
   "execution_count": 26,
   "metadata": {},
   "outputs": [
    {
     "name": "stdout",
     "output_type": "stream",
     "text": [
      "0.86\n"
     ]
    }
   ],
   "source": [
    "print(accuracy_score(y_test,y_pred))"
   ]
  },
  {
   "cell_type": "code",
   "execution_count": 27,
   "metadata": {},
   "outputs": [
    {
     "name": "stdout",
     "output_type": "stream",
     "text": [
      "              precision    recall  f1-score   support\n",
      "\n",
      "           0       0.89      0.95      0.92      1595\n",
      "           1       0.71      0.52      0.60       405\n",
      "\n",
      "    accuracy                           0.86      2000\n",
      "   macro avg       0.80      0.73      0.76      2000\n",
      "weighted avg       0.85      0.86      0.85      2000\n",
      "\n"
     ]
    }
   ],
   "source": [
    "print(classification_report(y_test,y_pred))"
   ]
  }
 ],
 "metadata": {
  "kernelspec": {
   "display_name": "Python 3 (ipykernel)",
   "language": "python",
   "name": "python3"
  },
  "language_info": {
   "codemirror_mode": {
    "name": "ipython",
    "version": 3
   },
   "file_extension": ".py",
   "mimetype": "text/x-python",
   "name": "python",
   "nbconvert_exporter": "python",
   "pygments_lexer": "ipython3",
   "version": "3.6.13"
  }
 },
 "nbformat": 4,
 "nbformat_minor": 4
}
